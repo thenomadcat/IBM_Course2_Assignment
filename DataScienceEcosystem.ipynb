{
 "cells": [
  {
   "cell_type": "markdown",
   "id": "f8b70fc6-312b-48ac-b949-65f334300edc",
   "metadata": {},
   "source": [
    "# Data Science Tools and Ecosystem"
   ]
  },
  {
   "cell_type": "markdown",
   "id": "5ca280a7-1c2d-4bda-bc21-ddf633e7ba20",
   "metadata": {
    "tags": []
   },
   "source": [
    "In this notebook, Data Science Tools and Ecosystem are summarized."
   ]
  },
  {
   "cell_type": "markdown",
   "id": "8d1a4808-5d16-4825-91ce-5035cca21f75",
   "metadata": {
    "tags": []
   },
   "source": [
    "**Objectives:**\n",
    "* List popular languages for Data Science\n",
    "* List libraries in Data Science\n",
    "* List Open Source Tools for Data Scientists\n",
    "* Arithmetic expressions examples"
   ]
  },
  {
   "cell_type": "markdown",
   "id": "b6f03cdd-acf1-4b89-87c8-fb7592edd047",
   "metadata": {},
   "source": [
    "__Some of the popular languages that Data Scientists use are:__\n",
    "- Python\n",
    "- R\n",
    "- SQL\n",
    "- Julia\n",
    "- SCALA\n",
    "- JavaScript\n",
    "- C++"
   ]
  },
  {
   "cell_type": "markdown",
   "id": "a313762e-d321-4282-a894-57a86bf70ab7",
   "metadata": {
    "tags": []
   },
   "source": [
    "__Some of the commonly used libraries used by Data Scientists include:__\n",
    "1. Numpy\n",
    "2. Pandas\n",
    "3. Tensorflow\n",
    "4. Matplotlib\n",
    "5. Keras\n",
    "6. Pytorch\n",
    "7. Seaborn\n",
    "8. Scikit Learn"
   ]
  },
  {
   "cell_type": "markdown",
   "id": "f3e229b0-dabb-4879-98ff-4572ada45ae8",
   "metadata": {},
   "source": [
    "__Some of the commonly used data science open source tools:__\n",
    "\n",
    "|Data Science Tools|\n",
    "|------------------|\n",
    "|MySQL|\n",
    "|Apache AirFlow|\n",
    "|Hue|\n",
    "|Tensorflow Lite|\n",
    "|AI Explainability 360 |"
   ]
  },
  {
   "cell_type": "markdown",
   "id": "083999d8-76e6-46d4-86de-07f1f2987f3d",
   "metadata": {
    "tags": []
   },
   "source": [
    "### Below are a few examples of evaluating arithmetic expressions in Python\n",
    "|Expressions|Note|\n",
    "|--------------------|----|\n",
    "|(2+4) * (4+6) |**+-x/**|\n",
    "|2**3|**power**|\n",
    "|2<<3|**shift left**|               "
   ]
  },
  {
   "cell_type": "code",
   "execution_count": 14,
   "id": "43fdb692-082f-49a1-b914-e79eb443324d",
   "metadata": {
    "tags": []
   },
   "outputs": [
    {
     "data": {
      "text/plain": [
       "17"
      ]
     },
     "execution_count": 14,
     "metadata": {},
     "output_type": "execute_result"
    }
   ],
   "source": [
    "# This a simple arithmetic expression to mutiply then add integers\n",
    "(3*4)+5\n"
   ]
  },
  {
   "cell_type": "code",
   "execution_count": 18,
   "id": "1e7e8ccf-c4dc-48fd-bc75-6392b0261520",
   "metadata": {
    "tags": []
   },
   "outputs": [
    {
     "name": "stdout",
     "output_type": "stream",
     "text": [
      "200 minutes is 3.3333333333333335 hours\n"
     ]
    }
   ],
   "source": [
    "# This will convert 200 minutes to hours by diving by 60\n",
    "a=200/60\n",
    "print(\"200 minutes\",\"is\", a, \"hours\")"
   ]
  },
  {
   "cell_type": "markdown",
   "id": "65463b98-cfc1-46ce-b1c3-faddf84bf92a",
   "metadata": {},
   "source": [
    "## Author\n",
    "theNomadCat"
   ]
  },
  {
   "cell_type": "code",
   "execution_count": null,
   "id": "c289f8bb-59e8-4c2f-953a-5e36a787b5f0",
   "metadata": {},
   "outputs": [],
   "source": []
  }
 ],
 "metadata": {
  "kernelspec": {
   "display_name": "Python",
   "language": "python",
   "name": "conda-env-python-py"
  },
  "language_info": {
   "codemirror_mode": {
    "name": "ipython",
    "version": 3
   },
   "file_extension": ".py",
   "mimetype": "text/x-python",
   "name": "python",
   "nbconvert_exporter": "python",
   "pygments_lexer": "ipython3",
   "version": "3.7.12"
  }
 },
 "nbformat": 4,
 "nbformat_minor": 5
}
